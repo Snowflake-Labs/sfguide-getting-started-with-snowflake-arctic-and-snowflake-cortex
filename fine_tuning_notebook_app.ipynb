{
 "cells": [
  {
   "cell_type": "markdown",
   "id": "1314ac90-bb9a-4111-865d-21ae271c7c51",
   "metadata": {
    "collapsed": false,
    "name": "cell12"
   },
   "source": [
    "# Serverless LLM Fine-tuning using Snowflake Cortex AI for Enterprise Use-cases\n",
    "\n",
    "Compared to a smaller size model such as `mistral-7b`, a foundation large language model such as `mistral-large` can be used to categorize support tickets with higher accuracy. But using a large language model comes with higher inference costs. Using fine-tuning, organizations can make smaller models really good at specific tasks to deliver results with the accuracy of larger models at just a [fraction of the cost](https://www.snowflake.com/legal-files/CreditConsumptionTable.pdf?_fsi=THrZMtDg,%20THrZMtDg&_fsi=THrZMtDg,%20THrZMtDg#page=9).\n",
    "\n",
    "In this Notebook we will:\n",
    "\n",
    "1) Use larger LLM to categorize support tickets \n",
    "2) Prepare training dataset from output a larger LLM for fine-tuning a smaller LLM \n",
    "3) Use smaller, fine-tuned model to achieve accuracy smiliar to a larger model at fraction of cost \n",
    "4) Custom email/text communications tailored to each support ticket"
   ]
  },
  {
   "cell_type": "markdown",
   "id": "4a66f8ee-27e7-4ff9-bdc7-15531241ec32",
   "metadata": {
    "collapsed": false,
    "name": "cell19"
   },
   "source": [
    "# Setup\n",
    "\n",
    "## Create Table and Load Data"
   ]
  },
  {
   "cell_type": "code",
   "execution_count": null,
   "id": "3517e588-d463-4975-b4f9-9f9a2591caa6",
   "metadata": {
    "codeCollapsed": false,
    "language": "sql",
    "name": "cell18"
   },
   "outputs": [],
   "source": [
    "CREATE or REPLACE file format csvformat\n",
    "  SKIP_HEADER = 1\n",
    "  FIELD_OPTIONALLY_ENCLOSED_BY = '\"'\n",
    "  type = 'CSV';\n",
    "\n",
    "CREATE or REPLACE stage support_tickets_data_stage\n",
    "  file_format = csvformat\n",
    "  url = 's3://sfquickstarts/finetuning_llm_using_snowflake_cortex_ai/';\n",
    "\n",
    "CREATE or REPLACE TABLE SUPPORT_TICKETS (\n",
    "  ticket_id VARCHAR(60),\n",
    "  customer_name VARCHAR(60),\n",
    "  customer_email VARCHAR(60),\n",
    "  service_type VARCHAR(60),\n",
    "  request VARCHAR,\n",
    "  contact_preference VARCHAR(60)\n",
    ");\n",
    "\n",
    "COPY into SUPPORT_TICKETS\n",
    "  from @support_tickets_data_stage;"
   ]
  },
  {
   "cell_type": "markdown",
   "id": "d02f6120-f5e0-4626-bdac-1e3327861809",
   "metadata": {
    "collapsed": false,
    "name": "cell22"
   },
   "source": [
    "## Import Libraries"
   ]
  },
  {
   "cell_type": "code",
   "execution_count": null,
   "id": "df2fccc3-31b6-4469-a8ff-432637d53b98",
   "metadata": {
    "codeCollapsed": false,
    "collapsed": false,
    "language": "python",
    "name": "cell21"
   },
   "outputs": [],
   "source": [
    "from snowflake.snowpark.context import get_active_session\n",
    "import snowflake.snowpark.functions as F\n",
    "import streamlit as st\n",
    "import altair as alt\n",
    "session = get_active_session()\n",
    "# Add a query tag to the session. This helps with performance monitoring and troubleshooting\n",
    "session.query_tag = {\"origin\":\"sf_sit-is\", \n",
    "                     \"name\":\"aiml_notebooks_fine_tuning\", \n",
    "                     \"version\":{\"major\":1, \"minor\":0},\n",
    "                     \"attributes\":{\"is_quickstart\":1, \"source\":\"notebook\"}}\n"
   ]
  },
  {
   "cell_type": "markdown",
   "id": "b5727103-e592-4879-bb1f-5f7384994e46",
   "metadata": {
    "collapsed": false,
    "name": "cell0"
   },
   "source": [
    "# Preview Support Tickets"
   ]
  },
  {
   "cell_type": "code",
   "execution_count": null,
   "id": "cb7310e0-4362-4cd2-bad9-fd70854ef709",
   "metadata": {
    "codeCollapsed": false,
    "collapsed": false,
    "language": "python",
    "name": "cell1"
   },
   "outputs": [],
   "source": [
    "df_support_tickets = session.table('support_tickets')\n",
    "df_support_tickets"
   ]
  },
  {
   "cell_type": "markdown",
   "id": "1a34347c-0a82-4cac-950a-1b9c848c6200",
   "metadata": {
    "collapsed": false,
    "name": "cell13"
   },
   "source": [
    "# Automatic ticket categorization using LLM"
   ]
  },
  {
   "cell_type": "code",
   "execution_count": null,
   "id": "c1b42f0d-61f8-4feb-8953-709411c95955",
   "metadata": {
    "codeCollapsed": false,
    "collapsed": false,
    "language": "python",
    "name": "cell16"
   },
   "outputs": [],
   "source": [
    "prompt = \"\"\"You are an agent that helps organize requests that come to our support team. \n",
    "\n",
    "The request category is the reason why the customer reached out. These are the possible types of request categories:\n",
    "\n",
    "Roaming fees\n",
    "Slow data speed\n",
    "Lost phone\n",
    "Add new line\n",
    "Closing account\n",
    "\n",
    "Try doing it for this request and return only the request category only.\n",
    "\"\"\""
   ]
  },
  {
   "cell_type": "markdown",
   "id": "b25748d6-35f3-41c0-8b8f-3578f363be83",
   "metadata": {
    "collapsed": false,
    "name": "cell5"
   },
   "source": [
    "## Use mistral-large"
   ]
  },
  {
   "cell_type": "code",
   "execution_count": null,
   "id": "56693c61-19d6-47aa-bec5-95d04ed52737",
   "metadata": {
    "codeCollapsed": false,
    "collapsed": false,
    "language": "python",
    "name": "cell15"
   },
   "outputs": [],
   "source": [
    "mistral_large_response_sql = f\"\"\" select ticket_id, request, \n",
    "trim(snowflake.cortex.complete('mistral-large',concat('{prompt}',request)),'\\n') as mistral_large_response\n",
    "from support_tickets\"\"\"\n",
    "\n",
    "df_mistral_large_response = session.sql(mistral_large_response_sql)\n",
    "df_mistral_large_response"
   ]
  },
  {
   "cell_type": "markdown",
   "id": "ab397503-3806-4bc9-8f59-7f84da848bf4",
   "metadata": {
    "collapsed": false,
    "name": "cell3"
   },
   "source": [
    "## Compare LLMs"
   ]
  },
  {
   "cell_type": "code",
   "execution_count": null,
   "id": "2fb995b6-8242-4b8c-82e4-621256e39fe7",
   "metadata": {
    "codeCollapsed": false,
    "collapsed": false,
    "language": "python",
    "name": "cell14"
   },
   "outputs": [],
   "source": [
    "mistral_7b_response_sql = f\"\"\" select ticket_id,\n",
    "trim(snowflake.cortex.complete('mistral-7b',concat('{prompt}',request)),'\\n') as mistral_7b_response\n",
    "from support_tickets\"\"\"\n",
    "\n",
    "df_mistral_7b_response = session.sql(mistral_7b_response_sql)\n",
    "\n",
    "df_llms = df_mistral_large_response.join(df_mistral_7b_response,'ticket_id')\n",
    "df_llms"
   ]
  },
  {
   "cell_type": "markdown",
   "id": "7f8cd51b-96d8-44d5-adc4-50a1b62fc914",
   "metadata": {
    "collapsed": false,
    "name": "cell10"
   },
   "source": [
    "# Generate dataset to fine-tune mistral-7b"
   ]
  },
  {
   "cell_type": "code",
   "execution_count": null,
   "id": "139c2111-f220-4be2-b907-4b2a140fdea4",
   "metadata": {
    "codeCollapsed": false,
    "collapsed": false,
    "language": "python",
    "name": "cell2"
   },
   "outputs": [],
   "source": [
    "df_fine_tune = df_mistral_large_response.with_column(\"prompt\", F.concat(F.lit(prompt),F.lit(\" \"),F.col(\"request\"))).select(\"ticket_id\",\"prompt\",\"mistral_large_response\")\n",
    "df_fine_tune.write.mode('overwrite').save_as_table('support_tickets_finetune')"
   ]
  },
  {
   "cell_type": "markdown",
   "id": "5ce01346-2b85-425f-9675-d3a2626c27f6",
   "metadata": {
    "collapsed": false,
    "name": "cell6"
   },
   "source": [
    "# Fine-tune mistral-7b\n",
    "\n",
    "## Split data into training and evaluation"
   ]
  },
  {
   "cell_type": "code",
   "execution_count": null,
   "id": "07123242-032c-4c28-aa00-be737c45af80",
   "metadata": {
    "codeCollapsed": false,
    "collapsed": false,
    "language": "python",
    "name": "cell4"
   },
   "outputs": [],
   "source": [
    "train_df, eval_df = session.table(\"support_tickets_finetune\").random_split(weights=[0.8, 0.2], seed=42)\n",
    "train_df.write.mode('overwrite').save_as_table('support_tickets_train')\n",
    "eval_df.write.mode('overwrite').save_as_table('support_tickets_eval')"
   ]
  },
  {
   "cell_type": "code",
   "execution_count": null,
   "id": "0875f566-27b8-443c-946f-d5e673bfcfaa",
   "metadata": {
    "collapsed": false,
    "language": "python",
    "name": "cell8"
   },
   "outputs": [],
   "source": [
    "# TODO: In db_schema replace #### with your User ID. For example, DB_USER1000\n",
    "# db_schema = 'DB_USER####.GENAI'\n",
    "# fine_tuned_model_name = 'support_tickets_finetuned_mistral_7b'\n",
    "\n",
    "# fine_tune_sql = f\"\"\"select snowflake.cortex.finetune(\n",
    "# 'create',\n",
    "# '{fine_tuned_model_name}',\n",
    "# 'mistral-7b', \n",
    "# 'select prompt, mistral_large_response as completion from {db_schema}.support_tickets_train', \n",
    "# 'select prompt, mistral_large_response as completion from {db_schema}.support_tickets_eval') \n",
    "# \"\"\"\n",
    "\n",
    "# df_fine_tune_response = session.sql(fine_tune_sql)\n",
    "# df_fine_tune_response"
   ]
  },
  {
   "cell_type": "code",
   "execution_count": null,
   "id": "3d1f98bf-644f-4969-aeb7-fc3e88bd9094",
   "metadata": {
    "collapsed": false,
    "language": "python",
    "name": "cell17"
   },
   "outputs": [],
   "source": [
    "# TODO: Replace #### with your fine-tuning job id from previous cell\n",
    "# fine_tuned_model_id = '####'; \n",
    "\n",
    "# df_fine_tune_response = session.sql(f\"select snowflake.cortex.finetune('DESCRIBE','{fine_tuned_model_id}') as status\")\n",
    "# df_fine_tune_response"
   ]
  },
  {
   "cell_type": "markdown",
   "id": "2c6c7a29-681b-43c1-b977-f4cacceed5bf",
   "metadata": {
    "collapsed": false,
    "name": "cell11"
   },
   "source": [
    "# Inference using fine-tuned model"
   ]
  },
  {
   "cell_type": "code",
   "execution_count": null,
   "id": "3408e307-ba6b-4425-9b59-d6d9491ea6ef",
   "metadata": {
    "codeCollapsed": false,
    "collapsed": false,
    "language": "python",
    "name": "cell9"
   },
   "outputs": [],
   "source": [
    "fine_tuned_model_name = 'dash_db.dash_schema.support_tickets_finetuned_mistral_7b'\n",
    "\n",
    "sql = f\"\"\"select ticket_id, request,\n",
    "trim(snowflake.cortex.complete('{fine_tuned_model_name}',concat('{prompt}',request)),'\\n') as fine_tuned_mistral_7b_model_response\n",
    "from support_tickets\"\"\"\n",
    "\n",
    "df_fine_tuned_mistral_7b_response = session.sql(sql)\n",
    "df_fine_tuned_mistral_7b_response"
   ]
  },
  {
   "cell_type": "markdown",
   "id": "49adff6f-6e67-440c-a260-f6f857a9ec22",
   "metadata": {
    "collapsed": false,
    "name": "cell27"
   },
   "source": [
    "# Auto-generate custom emails and text messages"
   ]
  },
  {
   "cell_type": "code",
   "execution_count": null,
   "id": "fbeef951-0c61-4954-a3ce-5fac3a6c0359",
   "metadata": {
    "codeCollapsed": false,
    "collapsed": false,
    "language": "python",
    "name": "cell25"
   },
   "outputs": [],
   "source": [
    "df = df_fine_tuned_mistral_7b_response.group_by('fine_tuned_mistral_7b_model_response').agg(F.count(\"*\").as_('COUNT'))\n",
    "st.subheader(\"Number of requests per category\")\n",
    "\n",
    "chart = alt.Chart(df.to_pandas()).mark_bar().encode(\n",
    "    y=alt.Y('FINE_TUNED_MISTRAL_7B_MODEL_RESPONSE:N', sort=\"-x\"),\n",
    "    x=alt.X('COUNT:Q',),\n",
    "    color=alt.Color('FINE_TUNED_MISTRAL_7B_MODEL_RESPONSE:N', scale=alt.Scale(scheme='category10'), legend=None),\n",
    ").properties(height=400)\n",
    "\n",
    "st.altair_chart(chart, use_container_width=True)"
   ]
  },
  {
   "cell_type": "markdown",
   "id": "5c07bb19-fd7e-47f8-b99d-43d6c65241d9",
   "metadata": {
    "collapsed": false,
    "name": "cell7"
   },
   "source": [
    "## Streamlit application to auto-generate custom emails and text messages"
   ]
  },
  {
   "cell_type": "code",
   "execution_count": null,
   "id": "4457ce4d-181b-4857-a257-5f40257e073c",
   "metadata": {
    "codeCollapsed": false,
    "collapsed": false,
    "language": "python",
    "name": "cell26"
   },
   "outputs": [],
   "source": [
    "st.subheader(\"Auto-generate custom emails or text messages\")\n",
    "\n",
    "with st.container():\n",
    "    with st.expander(\"Edit prompt and select LLM\", expanded=True):\n",
    "        entered_prompt = st.text_area('Prompt',\"\"\"Please write an email or text promoting a new plan that will save customers total costs. If the customer requested to be contacted by text message, write text message response in less than 25 words, otherwise write email response in maximum 100 words.\"\"\")\n",
    "    \n",
    "        with st.container():\n",
    "            left_col,right_col = st.columns(2)\n",
    "            with left_col:\n",
    "                selected_category = st.selectbox('Select category',('Roaming fees', 'Closing account', 'Add new line', 'Slow data speed'))\n",
    "            with right_col:\n",
    "                selected_llm = st.selectbox('Select LLM',('snowflake-arctic','llama3-8b','mistral-large', 'reka-flash',))\n",
    "\n",
    "with st.container():\n",
    "    _,mid_col,_ = st.columns([.4,.3,.3])\n",
    "    with mid_col:\n",
    "        generate_template = st.button('Generate messages ⚡',type=\"primary\")\n",
    "\n",
    "with st.container():\n",
    "    if generate_template:\n",
    "        sql = f\"\"\"select s.ticket_id, s.customer_name, concat(IFF(s.contact_preference = 'Email', '📩', '📲'), ' ', s.contact_preference) as contact_preference, snowflake.cortex.complete('{selected_llm}',\n",
    "        concat('{entered_prompt}','Here is the customer information: Name: ',customer_name,', Contact preference: ', contact_preference))\n",
    "        as llm_response from support_tickets as s join support_tickets_train as t on s.ticket_id = t.ticket_id\n",
    "        where t.mistral_large_response = '{selected_category}' limit 10\"\"\"\n",
    "\n",
    "        with st.status(\"In progress...\") as status:\n",
    "            df_llm_response = session.sql(sql).to_pandas()\n",
    "            st.subheader(\"LLM-generated emails and text messages\")\n",
    "            for row in df_llm_response.itertuples():\n",
    "                status.caption(f\"Ticket ID: `{row.TICKET_ID}`\")\n",
    "                status.caption(f\"To: {row.CUSTOMER_NAME}\")\n",
    "                status.caption(f\"Contact through: {row.CONTACT_PREFERENCE}\")\n",
    "                status.markdown(row.LLM_RESPONSE.replace(\"--\", \"\"))\n",
    "                status.divider()\n",
    "            status.update(label=\"Done!\", state=\"complete\", expanded=True)"
   ]
  }
 ],
 "metadata": {
  "kernelspec": {
   "display_name": "Streamlit Notebook",
   "name": "streamlit"
  }
 },
 "nbformat": 4,
 "nbformat_minor": 5
}
