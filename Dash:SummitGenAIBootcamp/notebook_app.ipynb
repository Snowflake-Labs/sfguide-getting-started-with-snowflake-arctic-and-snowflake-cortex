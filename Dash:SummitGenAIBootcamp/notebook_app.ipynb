{
 "metadata": {
  "kernelspec": {
   "display_name": "Streamlit Notebook",
   "name": "streamlit"
  }
 },
 "nbformat_minor": 5,
 "nbformat": 4,
 "cells": [
  {
   "cell_type": "markdown",
   "id": "b5727103-e592-4879-bb1f-5f7384994e46",
   "metadata": {
    "name": "cell0",
    "collapsed": false
   },
   "source": "# Preview Support Tickets"
  },
  {
   "cell_type": "code",
   "id": "cb7310e0-4362-4cd2-bad9-fd70854ef709",
   "metadata": {
    "language": "python",
    "name": "cell1",
    "collapsed": false,
    "codeCollapsed": false
   },
   "outputs": [],
   "source": "from snowflake.snowpark.context import get_active_session\nimport snowflake.snowpark.functions as F\nimport streamlit as st\nimport altair as alt\nsession = get_active_session()\n\ndf_support_tickets = session.table('support_tickets')\ndf_support_tickets",
   "execution_count": null
  },
  {
   "cell_type": "markdown",
   "id": "1a34347c-0a82-4cac-950a-1b9c848c6200",
   "metadata": {
    "name": "cell13",
    "collapsed": false
   },
   "source": "# Automatic ticket categorization using LLM"
  },
  {
   "cell_type": "code",
   "id": "c1b42f0d-61f8-4feb-8953-709411c95955",
   "metadata": {
    "language": "python",
    "name": "cell16",
    "collapsed": false,
    "codeCollapsed": false
   },
   "outputs": [],
   "source": "prompt = \"\"\"You are an agent that helps organize requests that come to our support team. \n\nThe request category is the reason why the customer reached out. These are the possible types of request categories:\n\nRoaming fees\nSlow data speed\nLost phone\nAdd new line\nClosing account\n\nTry doing it for this request and return only the request category only.\n\"\"\"",
   "execution_count": null
  },
  {
   "cell_type": "markdown",
   "id": "b25748d6-35f3-41c0-8b8f-3578f363be83",
   "metadata": {
    "name": "cell5",
    "collapsed": false
   },
   "source": "## Use mistral-large"
  },
  {
   "cell_type": "code",
   "id": "56693c61-19d6-47aa-bec5-95d04ed52737",
   "metadata": {
    "language": "python",
    "name": "cell15",
    "collapsed": false,
    "codeCollapsed": false
   },
   "outputs": [],
   "source": "mistral_large_response_sql = f\"\"\" select ticket_id, request, \ntrim(snowflake.cortex.complete('mistral-large',concat('{prompt}',request)),'\\n') as mistral_large_response\nfrom support_tickets\"\"\"\n\ndf_mistral_large_response = session.sql(mistral_large_response_sql)\ndf_mistral_large_response",
   "execution_count": null
  },
  {
   "cell_type": "markdown",
   "id": "ab397503-3806-4bc9-8f59-7f84da848bf4",
   "metadata": {
    "name": "cell3",
    "collapsed": false
   },
   "source": "## Compare LLMs"
  },
  {
   "cell_type": "code",
   "id": "2fb995b6-8242-4b8c-82e4-621256e39fe7",
   "metadata": {
    "language": "python",
    "name": "cell14",
    "collapsed": false,
    "codeCollapsed": false
   },
   "outputs": [],
   "source": "mistral_7b_response_sql = f\"\"\" select ticket_id,\ntrim(snowflake.cortex.complete('mistral-7b',concat('{prompt}',request)),'\\n') as mistral_7b_response\nfrom support_tickets\"\"\"\n\ndf_mistral_7b_response = session.sql(mistral_7b_response_sql)\n\ndf_llms = df_mistral_large_response.join(df_mistral_7b_response,'ticket_id')\ndf_llms",
   "execution_count": null
  },
  {
   "cell_type": "markdown",
   "id": "7f8cd51b-96d8-44d5-adc4-50a1b62fc914",
   "metadata": {
    "name": "cell10",
    "collapsed": false
   },
   "source": "# Generate dataset to fine-tune mistral-7b"
  },
  {
   "cell_type": "code",
   "id": "139c2111-f220-4be2-b907-4b2a140fdea4",
   "metadata": {
    "language": "python",
    "name": "cell2",
    "collapsed": false,
    "codeCollapsed": false
   },
   "outputs": [],
   "source": "df_fine_tune = df_mistral_large_response.with_column(\"prompt\", F.concat(F.lit(prompt),F.lit(\" \"),F.col(\"request\"))).select(\"ticket_id\",\"prompt\",\"mistral_large_response\")\ndf_fine_tune.write.mode('overwrite').save_as_table('support_tickets_finetune')",
   "execution_count": null
  },
  {
   "cell_type": "markdown",
   "id": "5ce01346-2b85-425f-9675-d3a2626c27f6",
   "metadata": {
    "name": "cell6",
    "collapsed": false
   },
   "source": "# Fine-tune mistral-7b\n\n## Split data into training and evaluation"
  },
  {
   "cell_type": "code",
   "id": "07123242-032c-4c28-aa00-be737c45af80",
   "metadata": {
    "language": "python",
    "name": "cell4",
    "collapsed": false,
    "codeCollapsed": false
   },
   "outputs": [],
   "source": "train_df, eval_df = session.table(\"support_tickets_finetune\").random_split(weights=[0.8, 0.2], seed=42)\ntrain_df.write.mode('overwrite').save_as_table('support_tickets_train')\neval_df.write.mode('overwrite').save_as_table('support_tickets_eval')",
   "execution_count": null
  },
  {
   "cell_type": "markdown",
   "id": "2c6c7a29-681b-43c1-b977-f4cacceed5bf",
   "metadata": {
    "name": "cell11",
    "collapsed": false
   },
   "source": "# Inference using fine-tuned model"
  },
  {
   "cell_type": "code",
   "id": "3408e307-ba6b-4425-9b59-d6d9491ea6ef",
   "metadata": {
    "language": "python",
    "name": "cell9",
    "collapsed": false,
    "codeCollapsed": false
   },
   "outputs": [],
   "source": "fine_tuned_model_id = 'CortexFineTuningWorkflow_c592f38f-fb60-4973-9bc5-774c864b531f'; \nfine_tuned_model_name = '@dash_db.dash_schema.fine_tuning/support_tickets/fine_tuning_output/mistral-7b/'+fine_tuned_model_id+'.model'\n\nsql = f\"\"\"select ticket_id, request,\ntrim(snowflake.cortex.complete('{fine_tuned_model_name}',concat('{prompt}',request)),'\\n') as fine_tuned_mistral_7b_model_response\nfrom support_tickets\"\"\"\n\ndf_fine_tuned_mistral_7b_response = session.sql(sql)\ndf_fine_tuned_mistral_7b_response",
   "execution_count": null
  },
  {
   "cell_type": "markdown",
   "id": "49adff6f-6e67-440c-a260-f6f857a9ec22",
   "metadata": {
    "name": "cell27",
    "collapsed": false
   },
   "source": "# Auto-generate custom emails and text messages"
  },
  {
   "cell_type": "code",
   "id": "fbeef951-0c61-4954-a3ce-5fac3a6c0359",
   "metadata": {
    "language": "python",
    "name": "cell25",
    "collapsed": false,
    "codeCollapsed": false
   },
   "outputs": [],
   "source": "df = df_fine_tuned_mistral_7b_response.group_by('fine_tuned_mistral_7b_model_response').agg(F.count(\"*\").as_('COUNT'))\nst.subheader(\"Number of requests per category\")\n\nchart = alt.Chart(df.to_pandas()).mark_bar().encode(\n    y=alt.Y('FINE_TUNED_MISTRAL_7B_MODEL_RESPONSE:N', sort=\"-x\"),\n    x=alt.X('COUNT:Q',),\n    color=alt.Color('FINE_TUNED_MISTRAL_7B_MODEL_RESPONSE:N', scale=alt.Scale(scheme='category10'), legend=None),\n).properties(height=400)\n\nst.altair_chart(chart, use_container_width=True)",
   "execution_count": null
  },
  {
   "cell_type": "markdown",
   "id": "5c07bb19-fd7e-47f8-b99d-43d6c65241d9",
   "metadata": {
    "name": "cell7",
    "collapsed": false
   },
   "source": "## Streamlit application to auto-generate custom emails and text messages"
  },
  {
   "cell_type": "code",
   "id": "4457ce4d-181b-4857-a257-5f40257e073c",
   "metadata": {
    "language": "python",
    "name": "cell26",
    "codeCollapsed": false,
    "collapsed": false
   },
   "outputs": [],
   "source": "st.subheader(\"Auto-generate custom emails or text messages\")\n\nwith st.container():\n    with st.expander(\"Edit prompt and select LLM\", expanded=True):\n        entered_prompt = st.text_area('Prompt',\"\"\"Please write an email or text promoting a new plan that will save customers total costs. If the customer requested to be contacted by text message, write text message response in less than 25 words, otherwise write email response in maximum 100 words.\"\"\")\n    \n        with st.container():\n            left_col,right_col = st.columns(2)\n            with left_col:\n                selected_category = st.selectbox('Select category',('Roaming fees', 'Closing account', 'Add new line', 'Slow data speed'))\n            with right_col:\n                selected_llm = st.selectbox('Select LLM',('snowflake-arctic','llama3-8b','mistral-large', 'reka-flash',))\n\nwith st.container():\n    _,mid_col,_ = st.columns([.4,.3,.3])\n    with mid_col:\n        generate_template = st.button('Generate messages ⚡',type=\"primary\")\n\nwith st.container():\n    if generate_template:\n        sql = f\"\"\"select s.ticket_id, s.customer_name, concat(IFF(s.contact_preference = 'Email', '📩', '📲'), ' ', s.contact_preference) as contact_preference, snowflake.cortex.complete('{selected_llm}',\n        concat('{entered_prompt}','Here is the customer information: Name: ',customer_name,', Contact preference: ', contact_preference))\n        as llm_response from support_tickets as s join support_tickets_train as t on s.ticket_id = t.ticket_id\n        where t.mistral_large_response = '{selected_category}' limit 10\"\"\"\n\n        with st.status(\"In progress...\") as status:\n            df_llm_response = session.sql(sql).to_pandas()\n            st.subheader(\"LLM-generated emails and text messages\")\n            for row in df_llm_response.itertuples():\n                status.caption(f\"Ticket ID: `{row.TICKET_ID}`\")\n                status.caption(f\"To: {row.CUSTOMER_NAME}\")\n                status.caption(f\"Contact through: {row.CONTACT_PREFERENCE}\")\n                status.markdown(row.LLM_RESPONSE.replace(\"--\", \"\"))\n                status.divider()\n            status.update(label=\"Done!\", state=\"complete\", expanded=True)",
   "execution_count": null
  }
 ]
}