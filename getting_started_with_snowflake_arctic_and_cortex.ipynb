{
 "cells": [
  {
   "cell_type": "markdown",
   "id": "3775908f-ca36-4846-8f38-5adca39217f2",
   "metadata": {
    "collapsed": false,
    "name": "cell1"
   },
   "source": [
    "# A Getting Started Guide With Snowflake Arctic and Snowflake Cortex \n",
    "\n",
    "## Overview\n",
    "\n",
    "Getting started with AI on enterprise data can seem overwhelming, between getting familiar with LLMs, how to perform custom prompt engineering, and how to get a wide range of LLMs deployed/integrated to run multiple tests all while keeping that valuable enterprise data secure. Well, a lot of these complexities are being abstracted away for you in Snowflake Cortex. \n",
    "\n",
    "In this guide, we will go through two flows – for the first three examples we will not have to worry about prompt engineering and, as a bonus, another example where we will build a prompt for a custom task and see [Snowflake Arctic](https://www.snowflake.com/en/data-cloud/arctic/) in action!\n",
    "\n",
    "### What is Snowflake Cortex?\n",
    "Snowflake Cortex is an intelligent, fully managed service that offers machine learning and AI solutions to Snowflake users. Snowflake Cortex capabilities include:\n",
    "\n",
    "LLM Functions: SQL and Python functions that leverage large language models (LLMs) for understanding, querying, translating, summarizing, and generating free-form text.\n",
    "\n",
    "ML Functions: SQL functions that perform predictive analysis such as forecasting and anomaly detection using machine learning to help you gain insights into your structured data and accelerate everyday analytics.\n",
    "\n",
    "Learn more about [Snowflake Cortex](https://docs.snowflake.com/en/user-guide/snowflake-cortex/overview).\n",
    "\n",
    "### What is Snowflake Arctic?\n",
    "\n",
    "Snowflake Arctic is a family of enterprise-grade models built by Snowflake. The family includes a set of embedding models that excel in retrieval use cases and a general-purpose LLM that exhibits top-tier intelligence in enterprise tasks such as SQL generation, code generation, instruction following and more. All of these models are available for all types of academic and commercial use under an Apache 2.0 license. \n",
    "\n",
    "Learn more about [benchmarks and how Snowflake Arctic was built](https://www.snowflake.com/blog/arctic-open-efficient-foundation-language-models-snowflake/).\n",
    "\n",
    "### What You Will Learn\n",
    "\n",
    "How to use Snowflake Arctic for custom tasks like summarizing long-form text into JSON formatted output using prompt engineering and Snowflake Cortex task-specific LLM functions to perform operations like translate text between languages or score the sentiment of a piece of text.\n",
    "\n",
    "### What You Will Build\n",
    "\n",
    "An interactive Streamlit application running in Snowflake.\n",
    "\n"
   ]
  },
  {
   "cell_type": "markdown",
   "id": "7cfb7e7f-62b5-4540-ae45-7a651f875622",
   "metadata": {
    "collapsed": false,
    "name": "cell2"
   },
   "source": [
    "## Setup\n",
    "\n",
    "Prior to GenAI, a lot of the information was buried in text format and therefore going underutilized for root cause analysis due to complexities in implementing natural language processing. But with Snowflake Cortex it’s as easy as writing a SQL statement! \n",
    "\n",
    "In this guide, we'll utilize synthetic call transcripts data, mimicking text sources commonly overlooked by organizations, including customer calls/chats, surveys, interviews, and other text data generated in marketing and sales teams.\n",
    "\n",
    "Let’s create the table and load the data.\n",
    "\n",
    "### Create Table and Load Data\n",
    "\n",
    "*Note: If you use different names for objects created in this section, be sure to update scripts and code in the following sections accordingly.*\n"
   ]
  },
  {
   "cell_type": "code",
   "execution_count": null,
   "id": "10434224-0149-4966-8255-9f4b33f8ec2c",
   "metadata": {
    "codeCollapsed": false,
    "collapsed": false,
    "language": "sql",
    "name": "cell3"
   },
   "outputs": [],
   "source": [
    "USE ROLE ACCOUNTADMIN;\n",
    "\n",
    "CREATE WAREHOUSE DASH_S WAREHOUSE_SIZE=SMALL;\n",
    "CREATE DATABASE DASH_DB;\n",
    "CREATE SCHEMA DASH_SCHEMA;\n",
    "\n",
    "USE DASH_DB.DASH_SCHEMA;\n",
    "USE WAREHOUSE DASH_S;\n",
    "\n",
    "CREATE or REPLACE file format csvformat\n",
    "  SKIP_HEADER = 1\n",
    "  FIELD_OPTIONALLY_ENCLOSED_BY = '\"'\n",
    "  type = 'CSV';\n",
    "\n",
    "CREATE or REPLACE stage call_transcripts_data_stage\n",
    "  file_format = csvformat\n",
    "  url = 's3://sfquickstarts/misc/call_transcripts/';\n",
    "\n",
    "CREATE or REPLACE table CALL_TRANSCRIPTS ( \n",
    "  date_created date,\n",
    "  language varchar(60),\n",
    "  country varchar(60),\n",
    "  product varchar(60),\n",
    "  category varchar(60),\n",
    "  damage_type varchar(90),\n",
    "  transcript varchar\n",
    ");\n",
    "\n",
    "COPY into CALL_TRANSCRIPTS\n",
    "  from @call_transcripts_data_stage;"
   ]
  },
  {
   "cell_type": "markdown",
   "id": "17697a48-7366-471f-907b-1a05a2aae973",
   "metadata": {
    "collapsed": false,
    "name": "cell4"
   },
   "source": [
    "## Snowflake Cortex\n",
    "\n",
    "Given the data in `call_transcripts` table, let’s see how we can use Snowflake Cortex. It offers access to industry-leading AI models, without requiring any knowledge of how the AI models work, how to deploy LLMs, or how to manage GPU infrastructure.\n",
    "\n",
    "### Translate\n",
    "Using Snowflake Cortex function **snowflake.cortex.translate** we can easily translate any text from one language to another. Let’s see how easy it is to use this function.\n"
   ]
  },
  {
   "cell_type": "code",
   "execution_count": null,
   "id": "052a7128-c98f-4e09-9890-1272c1e84e38",
   "metadata": {
    "codeCollapsed": false,
    "collapsed": false,
    "language": "sql",
    "name": "cell5"
   },
   "outputs": [],
   "source": [
    "select snowflake.cortex.translate('wie geht es dir heute?','de','en');"
   ]
  },
  {
   "cell_type": "markdown",
   "id": "1beb9fc1-29e1-4daf-a27d-44e3d35315a8",
   "metadata": {
    "name": "cell6"
   },
   "source": [
    "Now let’s see how you can translate call transcripts from German to English in batch mode using just SQL."
   ]
  },
  {
   "cell_type": "code",
   "execution_count": null,
   "id": "b387a85f-c86c-4f34-98ff-5c7c32412853",
   "metadata": {
    "collapsed": false,
    "language": "sql",
    "name": "cell7"
   },
   "outputs": [],
   "source": [
    "select transcript,snowflake.cortex.translate(transcript,'de','en') from call_transcripts where language = 'German';"
   ]
  },
  {
   "cell_type": "markdown",
   "id": "8c00a2ea-2e77-44cb-bc35-459899821f4d",
   "metadata": {
    "collapsed": false,
    "name": "cell8"
   },
   "source": [
    "### Sentiment Score\n",
    "Now let’s see how we can use **snowflake.cortex.sentiment** function to generate sentiment scores on call transcripts. \n",
    "\n",
    "*Note: Score is between -1 and 1; -1 = most negative, 1 = positive, 0 = neutral*\n"
   ]
  },
  {
   "cell_type": "code",
   "execution_count": null,
   "id": "51a10e92-e157-4204-b4c5-c9c9e4901dd9",
   "metadata": {
    "collapsed": false,
    "language": "sql",
    "name": "cell9"
   },
   "outputs": [],
   "source": [
    "select transcript, snowflake.cortex.sentiment(transcript) from call_transcripts where language = 'English';"
   ]
  },
  {
   "cell_type": "markdown",
   "id": "d13b6fa3-ac0b-43d3-9a9b-1cb0d9ead25d",
   "metadata": {
    "collapsed": false,
    "name": "cell10"
   },
   "source": [
    "### Summarize\n",
    "Now that we know how to translate call transcripts in English, it would be great to have the model pull out the most important details from each transcript so we don’t have to read the whole thing. Let’s see how **snowflake.cortex.summarize** function can do this and try it on one record."
   ]
  },
  {
   "cell_type": "code",
   "execution_count": null,
   "id": "cc1fc040-6fb8-4109-818d-769f25524931",
   "metadata": {
    "collapsed": false,
    "language": "sql",
    "name": "cell11"
   },
   "outputs": [],
   "source": [
    "select transcript,snowflake.cortex.summarize(transcript) as summary from call_transcripts where language = 'English' limit 1;"
   ]
  },
  {
   "cell_type": "markdown",
   "id": "b1e76b67-ca12-49c9-a4b4-5fc5c9661d57",
   "metadata": {
    "collapsed": false,
    "name": "cell12"
   },
   "source": [
    "\n",
    "### Summary with tokens count\n",
    "\n",
    "*Note: Snowflake Cortex LLM functions incur compute cost based on the number of tokens processed. Refer to the [consumption table](https://www.snowflake.com/legal-files/CreditConsumptionTable.pdf#page=9) for each function’s cost in credits per million tokens.*"
   ]
  },
  {
   "cell_type": "code",
   "execution_count": null,
   "id": "0bb299d9-cf8e-425e-abe0-d31bae1583e2",
   "metadata": {
    "codeCollapsed": false,
    "collapsed": false,
    "language": "sql",
    "name": "cell13"
   },
   "outputs": [],
   "source": [
    "\n",
    "select transcript,snowflake.cortex.summarize(transcript) as summary,snowflake.cortex.count_tokens('summarize',transcript) as number_of_tokens from call_transcripts where language = 'English' limit 1;"
   ]
  },
  {
   "cell_type": "markdown",
   "id": "9d249162-0be9-4ab5-9d6c-183ad2e247b5",
   "metadata": {
    "collapsed": false,
    "name": "cell14"
   },
   "source": [
    "## Snowflake Arctic\n",
    "\n",
    "### Prompt Engineering\n",
    "Being able to pull out the summary is good, but it would be great if we specifically pull out the product name, what part of the product was defective, and limit the summary to 200 words. Let’s see how we can accomplish this using the **snowflake.cortex.complete** function.\n",
    "\n",
    "*Note: Besides Snowflake Arctic you can also [use other supported LLMs](https://docs.snowflake.com/en/user-guide/snowflake-cortex/llm-functions#availability) in Snowflake with snowflake.cortex.complete function.*"
   ]
  },
  {
   "cell_type": "code",
   "execution_count": null,
   "id": "553a7f22-cbdd-4788-a282-d01c2910fa97",
   "metadata": {
    "codeCollapsed": false,
    "collapsed": false,
    "language": "sql",
    "name": "cell15"
   },
   "outputs": [],
   "source": [
    "SET prompt = \n",
    "'### \n",
    "Summarize this transcript in less than 200 words. \n",
    "Put the product name, defect and summary in JSON format. \n",
    "###';\n",
    "\n",
    "select snowflake.cortex.complete('snowflake-arctic',concat($prompt,transcript)) as summary\n",
    "from call_transcripts where language = 'English' limit 1;"
   ]
  },
  {
   "cell_type": "markdown",
   "id": "1cf7b4df-b393-43e8-8528-727cb4642b94",
   "metadata": {
    "collapsed": false,
    "name": "cell22"
   },
   "source": [
    "## Streamlit Application\n",
    "\n",
    "Now let's put it all together in a Streamlit application."
   ]
  },
  {
   "cell_type": "code",
   "execution_count": null,
   "id": "3efa65d1-f4ea-4332-bd4f-518b55d9ce9b",
   "metadata": {
    "codeCollapsed": false,
    "collapsed": false,
    "language": "python",
    "name": "cell16"
   },
   "outputs": [],
   "source": [
    "import streamlit as st\n",
    "from snowflake.snowpark.context import get_active_session\n",
    "session = get_active_session()\n",
    "# Add a query tag to the session. This helps with performance monitoring and troubleshooting\n",
    "session.query_tag = {\"origin\":\"sf_sit-is\", \n",
    "                     \"name\":\"aiml_notebooks_artic_cortex\", \n",
    "                     \"version\":{\"major\":1, \"minor\":0},\n",
    "                     \"attributes\":{\"is_quickstart\":1, \"source\":\"notebook\"}}\n",
    "\n",
    "sample_transcript = \"\"\"Customer: Hello!\n",
    "Agent: Hello! I hope you're having a great day. To best assist you, can you please share your first and last name and the company you're calling from?\n",
    "Customer: Sure, I'm Michael Green from SnowSolutions.\n",
    "Agent: Thanks, Michael! What can I help you with today?\n",
    "Customer: We recently ordered several DryProof670 jackets for our store, but when we opened the package, we noticed that half of the jackets have broken zippers. We need to replace them quickly to ensure we have sufficient stock for our customers. Our order number is 60877.\n",
    "Agent: I apologize for the inconvenience, Michael. Let me look into your order. It might take me a moment.\n",
    "Customer: Thank you.\"\"\"\n",
    "\n",
    "def process_request(req,txt,from_lang='',to_lang=''):\n",
    "    with st.status(\"In progress...\") as status:\n",
    "        txt = txt.replace(\"'\", \"\\\\'\")\n",
    "        cortex_response = ''\n",
    "        if req == 'sentiment':\n",
    "            cortex_response = session.sql(f\"select snowflake.cortex.sentiment('{txt}') as sentiment\").to_pandas().iloc[0]['SENTIMENT']\n",
    "            st.caption(\"Note: Score is between -1 and 1; -1 = Most negative, 1 = Positive, 0 = Neutral\")  \n",
    "        elif req == 'summary':\n",
    "            prompt = f\"Summarize this transcript in less than 200 words. Put the product name, defect if any, and summary in JSON format: {txt}\"\n",
    "            cortex_prompt = \"'[INST] \" + prompt + \" [/INST]'\"\n",
    "            cortex_response = session.sql(f\"select snowflake.cortex.complete('snowflake-arctic', {cortex_prompt}) as summary\").to_pandas().iloc[0]['SUMMARY']\n",
    "        else:\n",
    "            cortex_response = session.sql(f\"\"\"select snowflake.cortex.translate('{txt}','{supported_languages[from_language]}','{supported_languages[to_language]}') \n",
    "                                            as translation\"\"\").to_pandas().iloc[0]['TRANSLATION']\n",
    "        st.write(cortex_response)\n",
    "    status.update(label=\"Done!\", state=\"complete\", expanded=True)\n",
    "\n",
    "with st.container():\n",
    "    entered_text = st.text_area(\"Enter text\",height=200,value=sample_transcript)\n",
    "    col1,col2,col3 = st.columns(3)\n",
    "\n",
    "    with col1:\n",
    "        st.subheader(\"JSON Summary\")\n",
    "        btn_summarize = st.button(\"Summarize\")\n",
    "        if entered_text and btn_summarize:\n",
    "            process_request('summary',entered_text)\n",
    "            \n",
    "    with col2:\n",
    "        st.subheader(\"Sentiment Analysis\")\n",
    "        btn_sentiment = st.button(\"Sentiment Score\")\n",
    "        if entered_text and btn_sentiment:\n",
    "            process_request('sentiment',entered_text)\n",
    "                \n",
    "    with col3:\n",
    "        st.subheader(\"Translate\")\n",
    "        supported_languages = {'German':'de','French':'fr','Korean':'ko','Portuguese':'pt','English':'en','Italian':'it','Russian':'ru','Swedish':'sv','Spanish':'es','Japanese':'ja','Polish':'pl'}\n",
    "        col_to,col_from = st.columns(2)\n",
    "        with col_to:\n",
    "            from_language = st.selectbox('From',dict(sorted(supported_languages.items())))\n",
    "        with col_from:\n",
    "            to_language = st.selectbox('To',dict(sorted(supported_languages.items())))\n",
    "        btn_translate = st.button(\"Translate\")\n",
    "        if entered_text and btn_translate:\n",
    "            process_request('translate',entered_text,supported_languages[from_language],supported_languages[to_language])"
   ]
  },
  {
   "cell_type": "markdown",
   "id": "87b1c748-a785-40f2-9cb4-f8bf9e620945",
   "metadata": {
    "collapsed": false,
    "name": "cell21"
   },
   "source": [
    "## Conclusion And Resources\n",
    "\n",
    "Congratulations! You've successfully completed the Getting Started with Snowflake Arctic and Snowflake Cortex quickstart guide. \n",
    "\n",
    "### What You Learned\n",
    "\n",
    "- How to use Snowflake Arctic for custom tasks like summarizing long-form text into JSON formatted output using prompt engineering and Snowflake Cortex task-specific LLM functions to perform operations like translate text between languages or score the sentiment of a piece of text.\n",
    "- How to build an interactive Streamlit application running in Snowflake.\n",
    "\n",
    "### Related Resources\n",
    "\n",
    "- [Snowflake Cortex: Overview](https://docs.snowflake.com/en/user-guide/snowflake-cortex/overview)\n",
    "- [Snowflake Cortex: LLM Functions](https://docs.snowflake.com/user-guide/snowflake-cortex/llm-functions)\n",
    "- [Snowflake Cortex: LLM Functions Cost Considerations](https://docs.snowflake.com/user-guide/snowflake-cortex/llm-functions#cost-considerations) and [Consumption Table](https://www.snowflake.com/legal-files/CreditConsumptionTable.pdf#page=9)\n",
    "- [Snowflake Cortex: ML Functions](https://docs.snowflake.com/en/guides-overview-ml-functions)\n",
    "- [Snowflake Arctic: Hugging Face](https://huggingface.co/Snowflake/snowflake-arctic-instruct)\n",
    "- [Snowflake Arctic: Cookbooks](https://www.snowflake.com/en/data-cloud/arctic/cookbook/)\n",
    "- [Snowflake Arctic: Benchmarks](https://www.snowflake.com/blog/arctic-open-efficient-foundation-language-models-snowflake/)\n",
    "- [Snowflake Arctic: GitHub repo](https://github.com/Snowflake-Labs/snowflake-arctic)"
   ]
  },
  {
   "cell_type": "markdown",
   "id": "ef8c1f24-bb71-4670-a50f-d7229aa75dfd",
   "metadata": {
    "collapsed": false,
    "name": "cell17"
   },
   "source": []
  }
 ],
 "metadata": {
  "kernelspec": {
   "display_name": "Streamlit Notebook",
   "name": "streamlit"
  }
 },
 "nbformat": 4,
 "nbformat_minor": 5
}
